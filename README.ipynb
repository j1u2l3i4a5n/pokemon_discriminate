{
 "cells": [
  {
   "cell_type": "markdown",
   "metadata": {},
   "source": [
    "# 神奇寶貝圖形辨識\n",
    "\n",
    "## 組員\n",
    "- 黃妍心 生傳三 b05610046\n",
    "- 王博群 地理四 b04208021\n",
    "- 林鴻儒 心理四 b04207001\n",
    "\n",
    "## 題目簡介\n",
    "　　神奇寶貝是許多朋友的童年回憶，其中的神奇寶貝圖鑑能夠藉由拍下神奇寶貝的照片便能夠辨識出是哪種神奇寶貝，並且說出這種神奇寶貝的習性、特徵、屬性等等。基於對神奇寶貝的熱情，因此我們想要實作出這個神奇寶貝圖鑑。\n",
    "\n",
    "## 資料集簡介\n",
    "　　資料主要來自於kaggle上的<a href='https://www.kaggle.com/hannesrosenbusch/6036-labeled-pokemon-pictures?fbclid=IwAR07pt_Ewv1iv0PEIJqLeMAVdPu51MGXHrfGIwSDAPLHkh25ucI3A7F3g8U#names_and_strengths.csvhttps://www.kaggle.com/hannesrosenbusch/6036-labeled-pokemon-pictures?fbclid=IwAR07pt_Ewv1iv0PEIJqLeMAVdPu51MGXHrfGIwSDAPLHkh25ucI3A7F3g8U#names_and_strengths.csv'>6036 labeled pokemon pictures</a>。由於這個資料集的資料量略少，模型可能不易訓練，因此考慮整合其他資料集，或是使用轉移學習先抓特徵。\n",
    "  \n",
    "  \n",
    "## 實作方法\n",
    "- 運用CNN做圖形辨識\n",
    "- (optional) 運用轉移學習解決資料量不足的問題\n",
    "- (optional) 運用GAN去生成新的神奇寶貝\n",
    "- (optional) 做出神奇寶貝圖鑑的介面\n",
    "- (optioanl) 圖鑑附上口語輸出\n",
    "\n",
    "## 專案排程(進度)\n",
    "- 5/27 (執行中) 以現有資料嘗試訓練出一個模型 \n",
    "- 5/31 找額外資料補足，並整理成相同格式。目標16000張圖(800種，每種約20張)\n",
    "- 6/5 重新訓練模型\n",
    "- 6/6 撰寫結果報告\n",
    "- 6/6 (optional) 額外嘗試，例如使用轉移學習、GAN\n",
    "- 6/7 報告繳交\n",
    "- 6/13 (optioanl)報告demo準備\n",
    "- 6/14 (optional)報告\n",
    "\n",
    "\n"
   ]
  }
 ],
 "metadata": {
  "kernelspec": {
   "display_name": "Python 3",
   "language": "python",
   "name": "python3"
  },
  "language_info": {
   "codemirror_mode": {
    "name": "ipython",
    "version": 3
   },
   "file_extension": ".py",
   "mimetype": "text/x-python",
   "name": "python",
   "nbconvert_exporter": "python",
   "pygments_lexer": "ipython3",
   "version": "3.6.0"
  }
 },
 "nbformat": 4,
 "nbformat_minor": 2
}
