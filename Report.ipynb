{
 "cells": [
  {
   "cell_type": "markdown",
   "metadata": {},
   "source": [
    "# 神奇寶貝圖鑑 (Pokedex)"
   ]
  },
  {
   "cell_type": "markdown",
   "metadata": {},
   "source": [
    "## 摘要"
   ]
  },
  {
   "cell_type": "markdown",
   "metadata": {},
   "source": [
    "## 前言\n",
    "　　神奇寶貝是許多朋友的童年回憶，其中的神奇寶貝圖鑑能夠藉由拍下神奇寶貝的照片便能夠辨識出是哪種神奇寶貝，並且說出這種神奇寶貝的習性、特徵、屬性等等。基於對神奇寶貝的熱情，因此我們想要設計出一個神經網路，在讀入圖片後能夠輸出該神奇寶貝的相關資訊，實作出這個神奇寶貝圖鑑，除了具有趣味性外，未來亦可應用於相關神奇寶貝展覽活動中，增加玩家與展覽之互動性。"
   ]
  },
  {
   "cell_type": "markdown",
   "metadata": {},
   "source": [
    "## 資料來源\n",
    "　　資料來源來自google搜尋，使用<a href=\"https://github.com/hardikvasa/google-images-download\">Google Images Download</a>搜尋從第一世代到第七世代的神奇寶貝(不含mega進化)。下載下來後以人工的方式挑出不適合的圖片，挑選的條件如下。\n",
    "- 圖片中沒有神奇寶貝\n",
    "- 圖片中有兩種以上的神奇寶貝\n",
    "- 圖片中神奇寶貝占比太小或背景太花\n"
   ]
  },
  {
   "cell_type": "markdown",
   "metadata": {},
   "source": [
    "## 方法\n",
    "　　挑完後的圖片先進行資料前處理，重新調整大小為100X100個像素，通道統一為RGB。清理好這些資料後，再做訓練資料以及測試資料的切分，我們切分的方法為將每一種神奇寶貝取其兩成的資料作為測試資料，其餘為訓練資料。資料分完後再將訓練資料交給模型訓練。\n",
    "　　我們使用的模型為卷積神經網路(Convolutional neural network, CNN)，是一種圖像便是中常見的網路，藉由將卷積層和池化層相疊，模擬人類的視覺神經網路中的視域(receptive field)。這種模型能夠有效的擷取出圖片當中的特徵，從而有效的辨識圖形。而我們嘗試幾種模型的結構以及參數之後，決定使用以下這個模型結構。\n",
    "  <img source=\"(https://github.com/j1u2l3i4a5n/pokemon_discriminate/blob/master/NN.png)"></img>"
   ]
  },
  {
   "cell_type": "markdown",
   "metadata": {},
   "source": [
    "## 結果\n",
    "　　模型訓練準確率最高可達0.1273，validation 0.1000，準確率於第13個epoch後急劇下滑，平均每個epoch的時間在1000-4000秒間，也由於訓練時間較長，在沒有強大運算資源下我們能嘗試的模型較為有限。"
   ]
  },
  {
   "cell_type": "markdown",
   "metadata": {},
   "source": [
    "## 未來展望\n",
    "　　由於資料來自於google上搜尋到的圖片，找到的並非只有官方釋出的圖片，還包括動畫截圖、遊戲截圖、二次創作、周邊商品等等，導致整個資料的變異程度大幅上升，使得我們使用的CNN模型難以學會。另外，部分神奇寶貝可能本身較難辨識，例如有型態變化的神奇寶貝會造成資料變異的提升，使得模型訓練便困難。除了資料本身的複雜程度高以外，由於這次研究的時間略短，使得嘗試多種或是複雜的模型時間不夠，以至於沒有找到適合的模型和參數。最後，由於硬體設備的限制，我們在訓練模型前做了圖片的處理，用openCV將圖片的大小調整一致成100X100，造成原先圖片些許失真，從而增加辨識的困難度。\n",
    "　　未來在完成這項研究時，我們認為可以改進的地方有三點：一、先使用單一種類的圖片，例如只用官方釋出的圖片，或是電視動畫的截圖。盡量不要混到二次創作以及周邊商品的圖片；二、使用較為良好的硬體設備，例如使用GPU來訓練模型提高效率，進而增加嘗試更多模型的可能；三、在圖片的前處裡時，不要將圖片縮的太小。"
   ]
  },
  {
   "cell_type": "markdown",
   "metadata": {},
   "source": [
    "## 參考資料"
   ]
  }
 ],
 "metadata": {
  "kernelspec": {
   "display_name": "Python 3",
   "language": "python",
   "name": "python3"
  },
  "language_info": {
   "codemirror_mode": {
    "name": "ipython",
    "version": 3
   },
   "file_extension": ".py",
   "mimetype": "text/x-python",
   "name": "python",
   "nbconvert_exporter": "python",
   "pygments_lexer": "ipython3",
   "version": "3.6.0"
  }
 },
 "nbformat": 4,
 "nbformat_minor": 2
}
