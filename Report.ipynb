{
 "cells": [
  {
   "cell_type": "markdown",
   "metadata": {},
   "source": [
    "# 神奇寶貝圖鑑 (Pokedex)"
   ]
  },
  {
   "cell_type": "markdown",
   "metadata": {},
   "source": [
    "## 摘要"
   ]
  },
  {
   "cell_type": "markdown",
   "metadata": {},
   "source": [
    "## 前言\n",
    "　　神奇寶貝是許多朋友的童年回憶，其中的神奇寶貝圖鑑能夠藉由拍下神奇寶貝的照片便能夠辨識出是哪種神奇寶貝，並且說出這種神奇寶貝的習性、特徵、屬性等等。基於對神奇寶貝的熱情，因此我們想要設計出一個神經網路，在讀入圖片後能夠輸出該神奇寶貝的相關資訊，實作出這個神奇寶貝圖鑑，除了具有趣味性外，未來亦可應用於相關神奇寶貝展覽活動中，增加玩家與展覽之互動性。"
   ]
  },
  {
   "cell_type": "markdown",
   "metadata": {},
   "source": [
    "## 資料來源\n",
    "　　資料來源來自google搜尋，使用<a href=\"https://github.com/hardikvasa/google-images-download\">Google Images Download</a>搜尋從第一世代到第七世代的神奇寶貝(不含mega進化)。下載下來後以人工的方式挑出不適合的圖片，挑選的條件如下。\n",
    "- 圖片中沒有神奇寶貝\n",
    "- 圖片中有兩種以上的神奇寶貝\n",
    "- 圖片中有同種但兩隻以上的神奇寶貝\n"
    "- 圖片中神奇寶貝占比太小或背景太花\n"
   ]
  },
  {
   "cell_type": "markdown",
   "metadata": {},
   "source": [
    "## 方法\n",
    "　　挑完後的圖片先進行資料前處理，重新調整大小為100X100個像素，通道統一為RGB。清理好這些資料後，再做訓練資料以及測試資料的切分，我們切分的方法為將每一種神奇寶貝取其兩成的資料作為測試資料，其餘為訓練資料。資料分完後再將訓練資料交給模型訓練。\n",
    "　　我們使用的模型為卷積神經網路(Convolutional neural network, CNN)，是一種圖像便是中常見的網路，藉由將卷積層和池化層相疊，模擬人類的視覺神經網路中的視域(visual field)。這種模型能夠有效的擷取出圖片當中的特徵，從而有效的辨識圖形。而我們嘗試幾種模型的結構以及參數之後，決定使用以下這個模型結構。\n",
    "  <img source=\"\"></img>"
   ]
  },
  {
   "cell_type": "markdown",
   "metadata": {},
   "source": [
    "## 結果\n",
    "　　模型訓練結果"
   ]
  },
  {
   "cell_type": "markdown",
   "metadata": {},
   "source": [
    "## 參考資料"
   ]
  }
 ],
 "metadata": {
  "kernelspec": {
   "display_name": "Python 3",
   "language": "python",
   "name": "python3"
  },
  "language_info": {
   "codemirror_mode": {
    "name": "ipython",
    "version": 3
   },
   "file_extension": ".py",
   "mimetype": "text/x-python",
   "name": "python",
   "nbconvert_exporter": "python",
   "pygments_lexer": "ipython3",
   "version": "3.6.0"
  }
 },
 "nbformat": 4,
 "nbformat_minor": 2
}
